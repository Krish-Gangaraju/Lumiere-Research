{
 "cells": [
  {
   "cell_type": "code",
   "execution_count": 1,
   "metadata": {},
   "outputs": [],
   "source": [
    "import pandas as pd\n",
    "import json\n",
    "from pandas.io.json import json_normalize\n",
    "import json"
   ]
  },
  {
   "cell_type": "code",
   "execution_count": 2,
   "metadata": {},
   "outputs": [
    {
     "data": {
      "text/plain": [
       "<_io.TextIOWrapper name='CLEVR_test_questions.json' mode='r' encoding='UTF-8'>"
      ]
     },
     "execution_count": 2,
     "metadata": {},
     "output_type": "execute_result"
    }
   ],
   "source": [
    "open(\"CLEVR_test_questions.json\")"
   ]
  },
  {
   "cell_type": "code",
   "execution_count": 3,
   "metadata": {},
   "outputs": [],
   "source": [
    "#data = json.load(open('CLEVR_test.json'))\n",
    "#df = pd.DataFrame(data)\n",
    "#df = pd.read_json('CLEVR_test.json')"
   ]
  },
  {
   "cell_type": "markdown",
   "metadata": {},
   "source": [
    "### Test Set"
   ]
  },
  {
   "cell_type": "code",
   "execution_count": 4,
   "metadata": {},
   "outputs": [
    {
     "data": {
      "text/html": [
       "<div>\n",
       "<style scoped>\n",
       "    .dataframe tbody tr th:only-of-type {\n",
       "        vertical-align: middle;\n",
       "    }\n",
       "\n",
       "    .dataframe tbody tr th {\n",
       "        vertical-align: top;\n",
       "    }\n",
       "\n",
       "    .dataframe thead th {\n",
       "        text-align: right;\n",
       "    }\n",
       "</style>\n",
       "<table border=\"1\" class=\"dataframe\">\n",
       "  <thead>\n",
       "    <tr style=\"text-align: right;\">\n",
       "      <th></th>\n",
       "      <th>image_index</th>\n",
       "      <th>split</th>\n",
       "      <th>image_filename</th>\n",
       "      <th>question_index</th>\n",
       "      <th>question</th>\n",
       "    </tr>\n",
       "  </thead>\n",
       "  <tbody>\n",
       "    <tr>\n",
       "      <th>0</th>\n",
       "      <td>0</td>\n",
       "      <td>test</td>\n",
       "      <td>CLEVR_test_000000.png</td>\n",
       "      <td>0</td>\n",
       "      <td>Is there anything else that is the same shape ...</td>\n",
       "    </tr>\n",
       "    <tr>\n",
       "      <th>1</th>\n",
       "      <td>0</td>\n",
       "      <td>test</td>\n",
       "      <td>CLEVR_test_000000.png</td>\n",
       "      <td>1</td>\n",
       "      <td>How many brown rubber objects are the same sha...</td>\n",
       "    </tr>\n",
       "    <tr>\n",
       "      <th>2</th>\n",
       "      <td>0</td>\n",
       "      <td>test</td>\n",
       "      <td>CLEVR_test_000000.png</td>\n",
       "      <td>2</td>\n",
       "      <td>Does the tiny brown object have the same mater...</td>\n",
       "    </tr>\n",
       "    <tr>\n",
       "      <th>3</th>\n",
       "      <td>0</td>\n",
       "      <td>test</td>\n",
       "      <td>CLEVR_test_000000.png</td>\n",
       "      <td>3</td>\n",
       "      <td>How many tiny red rubber balls are there?</td>\n",
       "    </tr>\n",
       "    <tr>\n",
       "      <th>4</th>\n",
       "      <td>0</td>\n",
       "      <td>test</td>\n",
       "      <td>CLEVR_test_000000.png</td>\n",
       "      <td>4</td>\n",
       "      <td>What size is the rubber object that is to the ...</td>\n",
       "    </tr>\n",
       "    <tr>\n",
       "      <th>...</th>\n",
       "      <td>...</td>\n",
       "      <td>...</td>\n",
       "      <td>...</td>\n",
       "      <td>...</td>\n",
       "      <td>...</td>\n",
       "    </tr>\n",
       "    <tr>\n",
       "      <th>149983</th>\n",
       "      <td>14999</td>\n",
       "      <td>test</td>\n",
       "      <td>CLEVR_test_014999.png</td>\n",
       "      <td>149983</td>\n",
       "      <td>The red thing is what size?</td>\n",
       "    </tr>\n",
       "    <tr>\n",
       "      <th>149984</th>\n",
       "      <td>14999</td>\n",
       "      <td>test</td>\n",
       "      <td>CLEVR_test_014999.png</td>\n",
       "      <td>149984</td>\n",
       "      <td>Are there any other red things of the same sha...</td>\n",
       "    </tr>\n",
       "    <tr>\n",
       "      <th>149985</th>\n",
       "      <td>14999</td>\n",
       "      <td>test</td>\n",
       "      <td>CLEVR_test_014999.png</td>\n",
       "      <td>149985</td>\n",
       "      <td>What number of objects are gray spheres or gra...</td>\n",
       "    </tr>\n",
       "    <tr>\n",
       "      <th>149986</th>\n",
       "      <td>14999</td>\n",
       "      <td>test</td>\n",
       "      <td>CLEVR_test_014999.png</td>\n",
       "      <td>149986</td>\n",
       "      <td>There is a small rubber object in front of the...</td>\n",
       "    </tr>\n",
       "    <tr>\n",
       "      <th>149987</th>\n",
       "      <td>14999</td>\n",
       "      <td>test</td>\n",
       "      <td>CLEVR_test_014999.png</td>\n",
       "      <td>149987</td>\n",
       "      <td>There is a yellow cube that is behind the larg...</td>\n",
       "    </tr>\n",
       "  </tbody>\n",
       "</table>\n",
       "<p>149988 rows × 5 columns</p>\n",
       "</div>"
      ],
      "text/plain": [
       "        image_index split         image_filename  question_index  \\\n",
       "0                 0  test  CLEVR_test_000000.png               0   \n",
       "1                 0  test  CLEVR_test_000000.png               1   \n",
       "2                 0  test  CLEVR_test_000000.png               2   \n",
       "3                 0  test  CLEVR_test_000000.png               3   \n",
       "4                 0  test  CLEVR_test_000000.png               4   \n",
       "...             ...   ...                    ...             ...   \n",
       "149983        14999  test  CLEVR_test_014999.png          149983   \n",
       "149984        14999  test  CLEVR_test_014999.png          149984   \n",
       "149985        14999  test  CLEVR_test_014999.png          149985   \n",
       "149986        14999  test  CLEVR_test_014999.png          149986   \n",
       "149987        14999  test  CLEVR_test_014999.png          149987   \n",
       "\n",
       "                                                 question  \n",
       "0       Is there anything else that is the same shape ...  \n",
       "1       How many brown rubber objects are the same sha...  \n",
       "2       Does the tiny brown object have the same mater...  \n",
       "3               How many tiny red rubber balls are there?  \n",
       "4       What size is the rubber object that is to the ...  \n",
       "...                                                   ...  \n",
       "149983                        The red thing is what size?  \n",
       "149984  Are there any other red things of the same sha...  \n",
       "149985  What number of objects are gray spheres or gra...  \n",
       "149986  There is a small rubber object in front of the...  \n",
       "149987  There is a yellow cube that is behind the larg...  \n",
       "\n",
       "[149988 rows x 5 columns]"
      ]
     },
     "execution_count": 4,
     "metadata": {},
     "output_type": "execute_result"
    }
   ],
   "source": [
    "data_test = json.load(open('CLEVR_test_questions.json'))\n",
    "df_test = pd.DataFrame(data_test[\"questions\"])\n",
    "df_test"
   ]
  },
  {
   "cell_type": "markdown",
   "metadata": {},
   "source": [
    "### Validation Set"
   ]
  },
  {
   "cell_type": "code",
   "execution_count": null,
   "metadata": {},
   "outputs": [
    {
     "data": {
      "text/html": [
       "<div>\n",
       "<style scoped>\n",
       "    .dataframe tbody tr th:only-of-type {\n",
       "        vertical-align: middle;\n",
       "    }\n",
       "\n",
       "    .dataframe tbody tr th {\n",
       "        vertical-align: top;\n",
       "    }\n",
       "\n",
       "    .dataframe thead th {\n",
       "        text-align: right;\n",
       "    }\n",
       "</style>\n",
       "<table border=\"1\" class=\"dataframe\">\n",
       "  <thead>\n",
       "    <tr style=\"text-align: right;\">\n",
       "      <th></th>\n",
       "      <th>image_index</th>\n",
       "      <th>program</th>\n",
       "      <th>question_index</th>\n",
       "      <th>image_filename</th>\n",
       "      <th>question_family_index</th>\n",
       "      <th>split</th>\n",
       "      <th>answer</th>\n",
       "      <th>question</th>\n",
       "    </tr>\n",
       "  </thead>\n",
       "  <tbody>\n",
       "    <tr>\n",
       "      <th>0</th>\n",
       "      <td>0</td>\n",
       "      <td>[{'inputs': [], 'function': 'scene', 'value_in...</td>\n",
       "      <td>0</td>\n",
       "      <td>CLEVR_val_000000.png</td>\n",
       "      <td>39</td>\n",
       "      <td>val</td>\n",
       "      <td>no</td>\n",
       "      <td>Are there any other things that are the same s...</td>\n",
       "    </tr>\n",
       "    <tr>\n",
       "      <th>1</th>\n",
       "      <td>0</td>\n",
       "      <td>[{'inputs': [], 'function': 'scene', 'value_in...</td>\n",
       "      <td>1</td>\n",
       "      <td>CLEVR_val_000000.png</td>\n",
       "      <td>47</td>\n",
       "      <td>val</td>\n",
       "      <td>yes</td>\n",
       "      <td>Is there a big brown object of the same shape ...</td>\n",
       "    </tr>\n",
       "    <tr>\n",
       "      <th>2</th>\n",
       "      <td>0</td>\n",
       "      <td>[{'inputs': [], 'function': 'scene', 'value_in...</td>\n",
       "      <td>2</td>\n",
       "      <td>CLEVR_val_000000.png</td>\n",
       "      <td>87</td>\n",
       "      <td>val</td>\n",
       "      <td>metal</td>\n",
       "      <td>What is the material of the big purple object?</td>\n",
       "    </tr>\n",
       "    <tr>\n",
       "      <th>3</th>\n",
       "      <td>0</td>\n",
       "      <td>[{'inputs': [], 'function': 'scene', 'value_in...</td>\n",
       "      <td>3</td>\n",
       "      <td>CLEVR_val_000000.png</td>\n",
       "      <td>73</td>\n",
       "      <td>val</td>\n",
       "      <td>yes</td>\n",
       "      <td>There is a small gray block; are there any sph...</td>\n",
       "    </tr>\n",
       "    <tr>\n",
       "      <th>4</th>\n",
       "      <td>0</td>\n",
       "      <td>[{'inputs': [], 'function': 'scene', 'value_in...</td>\n",
       "      <td>4</td>\n",
       "      <td>CLEVR_val_000000.png</td>\n",
       "      <td>12</td>\n",
       "      <td>val</td>\n",
       "      <td>no</td>\n",
       "      <td>Is the purple thing the same shape as the larg...</td>\n",
       "    </tr>\n",
       "    <tr>\n",
       "      <th>...</th>\n",
       "      <td>...</td>\n",
       "      <td>...</td>\n",
       "      <td>...</td>\n",
       "      <td>...</td>\n",
       "      <td>...</td>\n",
       "      <td>...</td>\n",
       "      <td>...</td>\n",
       "      <td>...</td>\n",
       "    </tr>\n",
       "    <tr>\n",
       "      <th>149985</th>\n",
       "      <td>14999</td>\n",
       "      <td>[{'inputs': [], 'function': 'scene', 'value_in...</td>\n",
       "      <td>149985</td>\n",
       "      <td>CLEVR_val_014999.png</td>\n",
       "      <td>23</td>\n",
       "      <td>val</td>\n",
       "      <td>yes</td>\n",
       "      <td>Is the shape of the brown rubber thing the sam...</td>\n",
       "    </tr>\n",
       "    <tr>\n",
       "      <th>149986</th>\n",
       "      <td>14999</td>\n",
       "      <td>[{'inputs': [], 'function': 'scene', 'value_in...</td>\n",
       "      <td>149986</td>\n",
       "      <td>CLEVR_val_014999.png</td>\n",
       "      <td>56</td>\n",
       "      <td>val</td>\n",
       "      <td>metal</td>\n",
       "      <td>There is a object that is the same color as th...</td>\n",
       "    </tr>\n",
       "    <tr>\n",
       "      <th>149987</th>\n",
       "      <td>14999</td>\n",
       "      <td>[{'inputs': [], 'function': 'scene', 'value_in...</td>\n",
       "      <td>149987</td>\n",
       "      <td>CLEVR_val_014999.png</td>\n",
       "      <td>53</td>\n",
       "      <td>val</td>\n",
       "      <td>rubber</td>\n",
       "      <td>There is a brown ball that is the same size as...</td>\n",
       "    </tr>\n",
       "    <tr>\n",
       "      <th>149988</th>\n",
       "      <td>14999</td>\n",
       "      <td>[{'inputs': [], 'function': 'scene', 'value_in...</td>\n",
       "      <td>149988</td>\n",
       "      <td>CLEVR_val_014999.png</td>\n",
       "      <td>45</td>\n",
       "      <td>val</td>\n",
       "      <td>yes</td>\n",
       "      <td>Are there any tiny objects that have the same ...</td>\n",
       "    </tr>\n",
       "    <tr>\n",
       "      <th>149989</th>\n",
       "      <td>14999</td>\n",
       "      <td>[{'inputs': [], 'function': 'scene', 'value_in...</td>\n",
       "      <td>149989</td>\n",
       "      <td>CLEVR_val_014999.png</td>\n",
       "      <td>35</td>\n",
       "      <td>val</td>\n",
       "      <td>sphere</td>\n",
       "      <td>There is a small object that is both on the ri...</td>\n",
       "    </tr>\n",
       "  </tbody>\n",
       "</table>\n",
       "<p>149990 rows × 8 columns</p>\n",
       "</div>"
      ],
      "text/plain": [
       "        image_index                                            program  \\\n",
       "0                 0  [{'inputs': [], 'function': 'scene', 'value_in...   \n",
       "1                 0  [{'inputs': [], 'function': 'scene', 'value_in...   \n",
       "2                 0  [{'inputs': [], 'function': 'scene', 'value_in...   \n",
       "3                 0  [{'inputs': [], 'function': 'scene', 'value_in...   \n",
       "4                 0  [{'inputs': [], 'function': 'scene', 'value_in...   \n",
       "...             ...                                                ...   \n",
       "149985        14999  [{'inputs': [], 'function': 'scene', 'value_in...   \n",
       "149986        14999  [{'inputs': [], 'function': 'scene', 'value_in...   \n",
       "149987        14999  [{'inputs': [], 'function': 'scene', 'value_in...   \n",
       "149988        14999  [{'inputs': [], 'function': 'scene', 'value_in...   \n",
       "149989        14999  [{'inputs': [], 'function': 'scene', 'value_in...   \n",
       "\n",
       "        question_index        image_filename  question_family_index split  \\\n",
       "0                    0  CLEVR_val_000000.png                     39   val   \n",
       "1                    1  CLEVR_val_000000.png                     47   val   \n",
       "2                    2  CLEVR_val_000000.png                     87   val   \n",
       "3                    3  CLEVR_val_000000.png                     73   val   \n",
       "4                    4  CLEVR_val_000000.png                     12   val   \n",
       "...                ...                   ...                    ...   ...   \n",
       "149985          149985  CLEVR_val_014999.png                     23   val   \n",
       "149986          149986  CLEVR_val_014999.png                     56   val   \n",
       "149987          149987  CLEVR_val_014999.png                     53   val   \n",
       "149988          149988  CLEVR_val_014999.png                     45   val   \n",
       "149989          149989  CLEVR_val_014999.png                     35   val   \n",
       "\n",
       "        answer                                           question  \n",
       "0           no  Are there any other things that are the same s...  \n",
       "1          yes  Is there a big brown object of the same shape ...  \n",
       "2        metal     What is the material of the big purple object?  \n",
       "3          yes  There is a small gray block; are there any sph...  \n",
       "4           no  Is the purple thing the same shape as the larg...  \n",
       "...        ...                                                ...  \n",
       "149985     yes  Is the shape of the brown rubber thing the sam...  \n",
       "149986   metal  There is a object that is the same color as th...  \n",
       "149987  rubber  There is a brown ball that is the same size as...  \n",
       "149988     yes  Are there any tiny objects that have the same ...  \n",
       "149989  sphere  There is a small object that is both on the ri...  \n",
       "\n",
       "[149990 rows x 8 columns]"
      ]
     },
     "execution_count": 5,
     "metadata": {},
     "output_type": "execute_result"
    }
   ],
   "source": [
    "data_val = json.load(open('CLEVR_val_questions.json'))\n",
    "df_val = pd.DataFrame(data_val[\"questions\"])\n",
    "df_val.head(-1)"
   ]
  },
  {
   "cell_type": "code",
   "execution_count": null,
   "metadata": {},
   "outputs": [],
   "source": [
    "a = [df_val.iloc[149791][[\"question\"]].tolist()]\n",
    "a.append(df_val.iloc[149792][[\"question\"]].tolist())\n",
    "a.append(df_val.iloc[149793][[\"question\"]].tolist())\n",
    "a.append(df_val.iloc[149794][[\"question\"]].tolist())\n",
    "a.append(df_val.iloc[149795][[\"question\"]].tolist())\n",
    "a.append(df_val.iloc[149796][[\"question\"]].tolist())\n",
    "a.append(df_val.iloc[149797][[\"question\"]].tolist())\n",
    "a.append(df_val.iloc[149798][[\"question\"]].tolist())\n",
    "a.append(df_val.iloc[149799][[\"question\"]].tolist())\n",
    "a.append(df_val.iloc[149800][[\"question\"]].tolist())\n",
    "for i in a:\n",
    "    print(i)"
   ]
  },
  {
   "cell_type": "code",
   "execution_count": null,
   "metadata": {},
   "outputs": [],
   "source": []
  },
  {
   "cell_type": "code",
   "execution_count": null,
   "metadata": {},
   "outputs": [],
   "source": [
    "df_ValCount = pd.DataFrame()\n",
    "df_ValCount['integer?'] = df_val['answer'].apply(lambda x: True if len(x) == 1 else False)\n",
    "df_ValCount.insert(0, \"Answer\", df_val['answer'])\n",
    "val_indexes = df_ValCount.index[df_ValCount['integer?'] == True]\n",
    "val_qs = df_val.iloc[val_indexes]\n",
    "val_qs.head()"
   ]
  },
  {
   "cell_type": "code",
   "execution_count": null,
   "metadata": {},
   "outputs": [],
   "source": [
    "val_qs = val_qs.drop(['split', 'image_index'], axis = 1)\n",
    "val_qs = val_qs[['image_filename', 'question_index', 'question_family_index', \"question\", \"answer\", 'program']]\n",
    "val_qs"
   ]
  },
  {
   "cell_type": "code",
   "execution_count": null,
   "metadata": {},
   "outputs": [],
   "source": [
    "a = val_qs[\"image_filename\"].tolist()\n",
    "b = a.index(\"CLEVR_val_014981.png\")         # 149791\n",
    "c = val_qs.iloc[b][[\"question\"]].tolist()\n",
    "d = val_qs.iloc[b][[\"answer\"]].tolist()\n",
    "print(c, d)"
   ]
  },
  {
   "cell_type": "code",
   "execution_count": null,
   "metadata": {},
   "outputs": [],
   "source": [
    "image_no = val_qs['image_filename'].tolist()\n",
    "image_no= set(image_no)\n",
    "number_of_unique_values = len(image_no)\n",
    "print(number_of_unique_values)"
   ]
  },
  {
   "cell_type": "code",
   "execution_count": null,
   "metadata": {},
   "outputs": [],
   "source": [
    "a = [val_qs.iloc[35366][[\"question\"]].tolist()]\n",
    "a.append(val_qs.iloc[35367][[\"question\"]].tolist())\n",
    "a.append(val_qs.iloc[35368][[\"question\"]].tolist())\n",
    "a.append(val_qs.iloc[35369][[\"question\"]].tolist())\n",
    "a"
   ]
  },
  {
   "cell_type": "code",
   "execution_count": null,
   "metadata": {},
   "outputs": [],
   "source": [
    "val_qs.to_excel('ValidationCountingQuestions.xlsx', index=False)"
   ]
  },
  {
   "cell_type": "markdown",
   "metadata": {},
   "source": [
    "### Training Set"
   ]
  },
  {
   "cell_type": "code",
   "execution_count": null,
   "metadata": {},
   "outputs": [],
   "source": [
    "data_train = json.load(open('CLEVR_train_questions.json'))\n",
    "df_train = pd.DataFrame(data_train[\"questions\"])\n",
    "df_train"
   ]
  },
  {
   "cell_type": "code",
   "execution_count": null,
   "metadata": {},
   "outputs": [],
   "source": [
    "df_TrainCount = pd.DataFrame()\n",
    "df_TrainCount['integer?'] = df_train['answer'].apply(lambda x: True if len(x) == 1 else False)\n",
    "df_TrainCount.insert(0, \"Answer\", df_train['answer'])\n",
    "train_indexes = df_TrainCount.index[df_TrainCount['integer?'] == True]\n",
    "train_qs = df_train.iloc[train_indexes]\n",
    "train_qs"
   ]
  },
  {
   "cell_type": "code",
   "execution_count": null,
   "metadata": {},
   "outputs": [],
   "source": [
    "train_qs = train_qs.drop(['split', 'image_index'], axis = 1)\n",
    "train_qs = train_qs[['image_filename', 'question_index', 'question_family_index', \"question\", \"answer\", 'program']]\n",
    "train_qs"
   ]
  },
  {
   "cell_type": "code",
   "execution_count": null,
   "metadata": {},
   "outputs": [],
   "source": [
    "image_no = train_qs['image_filename'].tolist()\n",
    "image_no= set(image_no)\n",
    "number_of_unique_values = len(image_no)\n",
    "print(number_of_unique_values)"
   ]
  },
  {
   "cell_type": "code",
   "execution_count": null,
   "metadata": {},
   "outputs": [],
   "source": [
    "train_qs.to_excel('TrainCountingQuestions.xlsx', index=False)"
   ]
  },
  {
   "cell_type": "code",
   "execution_count": null,
   "metadata": {},
   "outputs": [],
   "source": [
    "print(66447+14251)"
   ]
  },
  {
   "cell_type": "code",
   "execution_count": null,
   "metadata": {},
   "outputs": [],
   "source": [
    "a = train_qs[\"image_filename\"].tolist()\n",
    "b = a.index(\"CLEVR_train_069793.png\")         # 424392\n",
    "a[b]            # 14980\n",
    "train_qs.iloc[b]"
   ]
  },
  {
   "cell_type": "code",
   "execution_count": 18,
   "metadata": {},
   "outputs": [
    {
     "name": "stdout",
     "output_type": "stream",
     "text": [
      "['What number of gray things are rubber spheres or big matte cylinders?'] ['1']\n"
     ]
    }
   ],
   "source": [
    "c = train_qs.iloc[b][[\"question\"]].tolist()\n",
    "d = train_qs.iloc[b][[\"answer\"]].tolist()\n",
    "print(c,d)"
   ]
  },
  {
   "cell_type": "code",
   "execution_count": null,
   "metadata": {},
   "outputs": [],
   "source": []
  }
 ],
 "metadata": {
  "kernelspec": {
   "display_name": "Python 3",
   "language": "python",
   "name": "python3"
  },
  "language_info": {
   "codemirror_mode": {
    "name": "ipython",
    "version": 3
   },
   "file_extension": ".py",
   "mimetype": "text/x-python",
   "name": "python",
   "nbconvert_exporter": "python",
   "pygments_lexer": "ipython3",
   "version": "3.8.3"
  }
 },
 "nbformat": 4,
 "nbformat_minor": 4
}
