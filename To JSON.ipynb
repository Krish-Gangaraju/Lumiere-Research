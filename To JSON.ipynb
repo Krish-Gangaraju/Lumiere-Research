{
 "cells": [
  {
   "cell_type": "code",
   "execution_count": 5,
   "metadata": {},
   "outputs": [],
   "source": [
    "import pandas as pd\n",
    "import numpy as np"
   ]
  },
  {
   "cell_type": "markdown",
   "metadata": {},
   "source": [
    "# Format: image_index || Qtype[program] || question_index || image_filename || Q 1/2/3[family index] || split || answer || question"
   ]
  },
  {
   "cell_type": "markdown",
   "metadata": {},
   "source": [
    "## Validation to JSON"
   ]
  },
  {
   "cell_type": "code",
   "execution_count": 6,
   "metadata": {},
   "outputs": [
    {
     "data": {
      "text/html": [
       "<div>\n",
       "<style scoped>\n",
       "    .dataframe tbody tr th:only-of-type {\n",
       "        vertical-align: middle;\n",
       "    }\n",
       "\n",
       "    .dataframe tbody tr th {\n",
       "        vertical-align: top;\n",
       "    }\n",
       "\n",
       "    .dataframe thead th {\n",
       "        text-align: right;\n",
       "    }\n",
       "</style>\n",
       "<table border=\"1\" class=\"dataframe\">\n",
       "  <thead>\n",
       "    <tr style=\"text-align: right;\">\n",
       "      <th></th>\n",
       "      <th>Unnamed: 0</th>\n",
       "      <th>Unnamed: 1</th>\n",
       "      <th>Unnamed: 2</th>\n",
       "      <th>Question</th>\n",
       "      <th>Original Answer</th>\n",
       "      <th>Question Number</th>\n",
       "      <th>Operation Template</th>\n",
       "      <th>Number Template</th>\n",
       "      <th>New Answer</th>\n",
       "    </tr>\n",
       "  </thead>\n",
       "  <tbody>\n",
       "    <tr>\n",
       "      <th>0</th>\n",
       "      <td>Q1 - 000000.png</td>\n",
       "      <td>Addition</td>\n",
       "      <td>Q1</td>\n",
       "      <td>What is the equivalent to the number of object...</td>\n",
       "      <td>2</td>\n",
       "      <td>5</td>\n",
       "      <td>ch + og</td>\n",
       "      <td>5+2</td>\n",
       "      <td>7</td>\n",
       "    </tr>\n",
       "    <tr>\n",
       "      <th>1</th>\n",
       "      <td>Q1 - 000000.png</td>\n",
       "      <td>Addition</td>\n",
       "      <td>Q2</td>\n",
       "      <td>What is the equivalent to the number of object...</td>\n",
       "      <td>2</td>\n",
       "      <td>1</td>\n",
       "      <td>ch + og</td>\n",
       "      <td>1+2</td>\n",
       "      <td>3</td>\n",
       "    </tr>\n",
       "    <tr>\n",
       "      <th>2</th>\n",
       "      <td>Q1 - 000000.png</td>\n",
       "      <td>Addition</td>\n",
       "      <td>Q3</td>\n",
       "      <td>What is the equivalent to the number of object...</td>\n",
       "      <td>2</td>\n",
       "      <td>5</td>\n",
       "      <td>ch + og</td>\n",
       "      <td>5+2</td>\n",
       "      <td>7</td>\n",
       "    </tr>\n",
       "    <tr>\n",
       "      <th>3</th>\n",
       "      <td>Q1 - 000000.png</td>\n",
       "      <td>Subtraction</td>\n",
       "      <td>Q1</td>\n",
       "      <td>How many more objects are the same size as the...</td>\n",
       "      <td>2</td>\n",
       "      <td>5</td>\n",
       "      <td>og - ch</td>\n",
       "      <td>05-Feb</td>\n",
       "      <td>-3</td>\n",
       "    </tr>\n",
       "    <tr>\n",
       "      <th>4</th>\n",
       "      <td>Q1 - 000000.png</td>\n",
       "      <td>Subtraction</td>\n",
       "      <td>Q2</td>\n",
       "      <td>How many more objects are the same size as the...</td>\n",
       "      <td>2</td>\n",
       "      <td>3</td>\n",
       "      <td>og - ch</td>\n",
       "      <td>03-Feb</td>\n",
       "      <td>-1</td>\n",
       "    </tr>\n",
       "    <tr>\n",
       "      <th>...</th>\n",
       "      <td>...</td>\n",
       "      <td>...</td>\n",
       "      <td>...</td>\n",
       "      <td>...</td>\n",
       "      <td>...</td>\n",
       "      <td>...</td>\n",
       "      <td>...</td>\n",
       "      <td>...</td>\n",
       "      <td>...</td>\n",
       "    </tr>\n",
       "    <tr>\n",
       "      <th>425023</th>\n",
       "      <td>Q35419 - 014999.png</td>\n",
       "      <td>Multiplication</td>\n",
       "      <td>Q2</td>\n",
       "      <td>What is the product of 4 and the number of lar...</td>\n",
       "      <td>0</td>\n",
       "      <td>4</td>\n",
       "      <td>og * ch</td>\n",
       "      <td>0*4</td>\n",
       "      <td>0</td>\n",
       "    </tr>\n",
       "    <tr>\n",
       "      <th>425024</th>\n",
       "      <td>Q35419 - 014999.png</td>\n",
       "      <td>Multiplication</td>\n",
       "      <td>Q3</td>\n",
       "      <td>What is the product of 6 and the number of lar...</td>\n",
       "      <td>0</td>\n",
       "      <td>6</td>\n",
       "      <td>og * ch</td>\n",
       "      <td>0*6</td>\n",
       "      <td>0</td>\n",
       "    </tr>\n",
       "    <tr>\n",
       "      <th>425025</th>\n",
       "      <td>Q35419 - 014999.png</td>\n",
       "      <td>Division</td>\n",
       "      <td>Q1</td>\n",
       "      <td>What is half of the number of large cubes have...</td>\n",
       "      <td>0</td>\n",
       "      <td>6</td>\n",
       "      <td>og / 2</td>\n",
       "      <td>0/2</td>\n",
       "      <td>0</td>\n",
       "    </tr>\n",
       "    <tr>\n",
       "      <th>425026</th>\n",
       "      <td>Q35419 - 014999.png</td>\n",
       "      <td>Division</td>\n",
       "      <td>Q2</td>\n",
       "      <td>What is half of the number of large cubes have...</td>\n",
       "      <td>0</td>\n",
       "      <td>4</td>\n",
       "      <td>og / 2</td>\n",
       "      <td>0/2</td>\n",
       "      <td>0</td>\n",
       "    </tr>\n",
       "    <tr>\n",
       "      <th>425027</th>\n",
       "      <td>Q35419 - 014999.png</td>\n",
       "      <td>Division</td>\n",
       "      <td>Q3</td>\n",
       "      <td>What is half of the number of large cubes have...</td>\n",
       "      <td>0</td>\n",
       "      <td>2</td>\n",
       "      <td>og / 2</td>\n",
       "      <td>0/2</td>\n",
       "      <td>0</td>\n",
       "    </tr>\n",
       "  </tbody>\n",
       "</table>\n",
       "<p>425028 rows × 9 columns</p>\n",
       "</div>"
      ],
      "text/plain": [
       "                 Unnamed: 0      Unnamed: 1 Unnamed: 2  \\\n",
       "0           Q1 - 000000.png        Addition         Q1   \n",
       "1           Q1 - 000000.png        Addition         Q2   \n",
       "2           Q1 - 000000.png        Addition         Q3   \n",
       "3           Q1 - 000000.png     Subtraction         Q1   \n",
       "4           Q1 - 000000.png     Subtraction         Q2   \n",
       "...                     ...             ...        ...   \n",
       "425023  Q35419 - 014999.png  Multiplication         Q2   \n",
       "425024  Q35419 - 014999.png  Multiplication         Q3   \n",
       "425025  Q35419 - 014999.png        Division         Q1   \n",
       "425026  Q35419 - 014999.png        Division         Q2   \n",
       "425027  Q35419 - 014999.png        Division         Q3   \n",
       "\n",
       "                                                 Question  Original Answer  \\\n",
       "0       What is the equivalent to the number of object...                2   \n",
       "1       What is the equivalent to the number of object...                2   \n",
       "2       What is the equivalent to the number of object...                2   \n",
       "3       How many more objects are the same size as the...                2   \n",
       "4       How many more objects are the same size as the...                2   \n",
       "...                                                   ...              ...   \n",
       "425023  What is the product of 4 and the number of lar...                0   \n",
       "425024  What is the product of 6 and the number of lar...                0   \n",
       "425025  What is half of the number of large cubes have...                0   \n",
       "425026  What is half of the number of large cubes have...                0   \n",
       "425027  What is half of the number of large cubes have...                0   \n",
       "\n",
       "        Question Number Operation Template Number Template New Answer  \n",
       "0                     5            ch + og             5+2          7  \n",
       "1                     1            ch + og             1+2          3  \n",
       "2                     5            ch + og             5+2          7  \n",
       "3                     5            og - ch          05-Feb         -3  \n",
       "4                     3            og - ch          03-Feb         -1  \n",
       "...                 ...                ...             ...        ...  \n",
       "425023                4            og * ch             0*4          0  \n",
       "425024                6            og * ch             0*6          0  \n",
       "425025                6             og / 2             0/2          0  \n",
       "425026                4             og / 2             0/2          0  \n",
       "425027                2             og / 2             0/2          0  \n",
       "\n",
       "[425028 rows x 9 columns]"
      ]
     },
     "execution_count": 6,
     "metadata": {},
     "output_type": "execute_result"
    }
   ],
   "source": [
    "valid = pd.read_csv('FinalQuestionsValidation.csv')\n",
    "valid"
   ]
  },
  {
   "cell_type": "code",
   "execution_count": 7,
   "metadata": {},
   "outputs": [
    {
     "name": "stdout",
     "output_type": "stream",
     "text": [
      "425028\n"
     ]
    }
   ],
   "source": [
    "# image_index\n",
    "test = valid[[\"Unnamed: 0\"]]\n",
    "a = test.values.tolist()\n",
    "image_index = []\n",
    "for i in a:\n",
    "    temp = i[0]\n",
    "    ind = temp.index(\"-\")\n",
    "    image_index.append(str(int(temp[-11:-4])))\n",
    "print(len(image_index))"
   ]
  },
  {
   "cell_type": "code",
   "execution_count": 8,
   "metadata": {},
   "outputs": [
    {
     "data": {
      "text/plain": [
       "425028"
      ]
     },
     "execution_count": 8,
     "metadata": {},
     "output_type": "execute_result"
    }
   ],
   "source": [
    "# Qtype\n",
    "test = valid[[\"Unnamed: 1\"]]\n",
    "b = test.values.tolist()\n",
    "Qtype = []\n",
    "for i in b:\n",
    "    if i[0] == \"Addition\":\n",
    "        Qtype.append(1)\n",
    "    if i[0] == \"Subtraction\":\n",
    "        Qtype.append(2)\n",
    "    if i[0] == \"Multiplication\":\n",
    "        Qtype.append(3)\n",
    "    if i[0] == \"Division\":\n",
    "        Qtype.append(4)\n",
    "        \n",
    "len(Qtype)"
   ]
  },
  {
   "cell_type": "code",
   "execution_count": 9,
   "metadata": {},
   "outputs": [
    {
     "data": {
      "text/plain": [
       "425028"
      ]
     },
     "execution_count": 9,
     "metadata": {},
     "output_type": "execute_result"
    }
   ],
   "source": [
    "# question_index\n",
    "question_index = np.arange(0, 425028).tolist()\n",
    "len(question_index)"
   ]
  },
  {
   "cell_type": "code",
   "execution_count": 10,
   "metadata": {},
   "outputs": [
    {
     "data": {
      "text/plain": [
       "425028"
      ]
     },
     "execution_count": 10,
     "metadata": {},
     "output_type": "execute_result"
    }
   ],
   "source": [
    "# image_filename\n",
    "test = valid[[\"Unnamed: 0\"]]\n",
    "c = test.values.tolist()\n",
    "image_filename = []\n",
    "val_text = \"CLEVR_val_\"\n",
    "for i in c:\n",
    "    temp = i[0]\n",
    "    temp = temp[-11::]\n",
    "    temp = val_text + str(temp).strip()\n",
    "    image_filename.append(temp)\n",
    "len(image_filename)"
   ]
  },
  {
   "cell_type": "code",
   "execution_count": 11,
   "metadata": {},
   "outputs": [
    {
     "data": {
      "text/plain": [
       "425028"
      ]
     },
     "execution_count": 11,
     "metadata": {},
     "output_type": "execute_result"
    }
   ],
   "source": [
    "# Q 1/2/3\n",
    "test = valid[[\"Unnamed: 2\"]]\n",
    "d = test.values.tolist()\n",
    "question_number = []\n",
    "for i in d:\n",
    "    temp = i[0]\n",
    "    question_number.append(temp)\n",
    "len(question_number)"
   ]
  },
  {
   "cell_type": "code",
   "execution_count": 12,
   "metadata": {},
   "outputs": [
    {
     "data": {
      "text/plain": [
       "425028"
      ]
     },
     "execution_count": 12,
     "metadata": {},
     "output_type": "execute_result"
    }
   ],
   "source": [
    "# split\n",
    "split = []\n",
    "split_text = \"val\"\n",
    "for i in range(425028):\n",
    "    split.append(split_text)\n",
    "len(split)"
   ]
  },
  {
   "cell_type": "code",
   "execution_count": 13,
   "metadata": {},
   "outputs": [
    {
     "data": {
      "text/plain": [
       "425028"
      ]
     },
     "execution_count": 13,
     "metadata": {},
     "output_type": "execute_result"
    }
   ],
   "source": [
    "# answer\n",
    "test = valid[[\"New Answer\"]]\n",
    "e = test.values.tolist()\n",
    "answer = []\n",
    "for i in e:\n",
    "    temp = i[0]\n",
    "    answer.append(temp)\n",
    "len(answer)"
   ]
  },
  {
   "cell_type": "code",
   "execution_count": 14,
   "metadata": {},
   "outputs": [
    {
     "data": {
      "text/plain": [
       "425028"
      ]
     },
     "execution_count": 14,
     "metadata": {},
     "output_type": "execute_result"
    }
   ],
   "source": [
    "# question\n",
    "test = valid[[\"Question\"]]\n",
    "f = test.values.tolist()\n",
    "question = []\n",
    "for i in f:\n",
    "    temp = i[0]\n",
    "    question.append(temp)\n",
    "len(question)"
   ]
  },
  {
   "cell_type": "code",
   "execution_count": 15,
   "metadata": {},
   "outputs": [
    {
     "data": {
      "text/html": [
       "<div>\n",
       "<style scoped>\n",
       "    .dataframe tbody tr th:only-of-type {\n",
       "        vertical-align: middle;\n",
       "    }\n",
       "\n",
       "    .dataframe tbody tr th {\n",
       "        vertical-align: top;\n",
       "    }\n",
       "\n",
       "    .dataframe thead th {\n",
       "        text-align: right;\n",
       "    }\n",
       "</style>\n",
       "<table border=\"1\" class=\"dataframe\">\n",
       "  <thead>\n",
       "    <tr style=\"text-align: right;\">\n",
       "      <th></th>\n",
       "      <th>image_index</th>\n",
       "      <th>Qtype</th>\n",
       "      <th>question_index</th>\n",
       "      <th>image_filename</th>\n",
       "      <th>question_number</th>\n",
       "      <th>split</th>\n",
       "      <th>answer</th>\n",
       "      <th>question</th>\n",
       "    </tr>\n",
       "  </thead>\n",
       "  <tbody>\n",
       "    <tr>\n",
       "      <th>0</th>\n",
       "      <td>0</td>\n",
       "      <td>1</td>\n",
       "      <td>0</td>\n",
       "      <td>CLEVR_val_000000.png</td>\n",
       "      <td>Q1</td>\n",
       "      <td>val</td>\n",
       "      <td>7</td>\n",
       "      <td>What is the equivalent to the number of object...</td>\n",
       "    </tr>\n",
       "    <tr>\n",
       "      <th>1</th>\n",
       "      <td>0</td>\n",
       "      <td>1</td>\n",
       "      <td>1</td>\n",
       "      <td>CLEVR_val_000000.png</td>\n",
       "      <td>Q2</td>\n",
       "      <td>val</td>\n",
       "      <td>3</td>\n",
       "      <td>What is the equivalent to the number of object...</td>\n",
       "    </tr>\n",
       "    <tr>\n",
       "      <th>2</th>\n",
       "      <td>0</td>\n",
       "      <td>1</td>\n",
       "      <td>2</td>\n",
       "      <td>CLEVR_val_000000.png</td>\n",
       "      <td>Q3</td>\n",
       "      <td>val</td>\n",
       "      <td>7</td>\n",
       "      <td>What is the equivalent to the number of object...</td>\n",
       "    </tr>\n",
       "    <tr>\n",
       "      <th>3</th>\n",
       "      <td>0</td>\n",
       "      <td>2</td>\n",
       "      <td>3</td>\n",
       "      <td>CLEVR_val_000000.png</td>\n",
       "      <td>Q1</td>\n",
       "      <td>val</td>\n",
       "      <td>-3</td>\n",
       "      <td>How many more objects are the same size as the...</td>\n",
       "    </tr>\n",
       "    <tr>\n",
       "      <th>4</th>\n",
       "      <td>0</td>\n",
       "      <td>2</td>\n",
       "      <td>4</td>\n",
       "      <td>CLEVR_val_000000.png</td>\n",
       "      <td>Q2</td>\n",
       "      <td>val</td>\n",
       "      <td>-1</td>\n",
       "      <td>How many more objects are the same size as the...</td>\n",
       "    </tr>\n",
       "    <tr>\n",
       "      <th>...</th>\n",
       "      <td>...</td>\n",
       "      <td>...</td>\n",
       "      <td>...</td>\n",
       "      <td>...</td>\n",
       "      <td>...</td>\n",
       "      <td>...</td>\n",
       "      <td>...</td>\n",
       "      <td>...</td>\n",
       "    </tr>\n",
       "    <tr>\n",
       "      <th>425023</th>\n",
       "      <td>14999</td>\n",
       "      <td>3</td>\n",
       "      <td>425023</td>\n",
       "      <td>CLEVR_val_014999.png</td>\n",
       "      <td>Q2</td>\n",
       "      <td>val</td>\n",
       "      <td>0</td>\n",
       "      <td>What is the product of 4 and the number of lar...</td>\n",
       "    </tr>\n",
       "    <tr>\n",
       "      <th>425024</th>\n",
       "      <td>14999</td>\n",
       "      <td>3</td>\n",
       "      <td>425024</td>\n",
       "      <td>CLEVR_val_014999.png</td>\n",
       "      <td>Q3</td>\n",
       "      <td>val</td>\n",
       "      <td>0</td>\n",
       "      <td>What is the product of 6 and the number of lar...</td>\n",
       "    </tr>\n",
       "    <tr>\n",
       "      <th>425025</th>\n",
       "      <td>14999</td>\n",
       "      <td>4</td>\n",
       "      <td>425025</td>\n",
       "      <td>CLEVR_val_014999.png</td>\n",
       "      <td>Q1</td>\n",
       "      <td>val</td>\n",
       "      <td>0</td>\n",
       "      <td>What is half of the number of large cubes have...</td>\n",
       "    </tr>\n",
       "    <tr>\n",
       "      <th>425026</th>\n",
       "      <td>14999</td>\n",
       "      <td>4</td>\n",
       "      <td>425026</td>\n",
       "      <td>CLEVR_val_014999.png</td>\n",
       "      <td>Q2</td>\n",
       "      <td>val</td>\n",
       "      <td>0</td>\n",
       "      <td>What is half of the number of large cubes have...</td>\n",
       "    </tr>\n",
       "    <tr>\n",
       "      <th>425027</th>\n",
       "      <td>14999</td>\n",
       "      <td>4</td>\n",
       "      <td>425027</td>\n",
       "      <td>CLEVR_val_014999.png</td>\n",
       "      <td>Q3</td>\n",
       "      <td>val</td>\n",
       "      <td>0</td>\n",
       "      <td>What is half of the number of large cubes have...</td>\n",
       "    </tr>\n",
       "  </tbody>\n",
       "</table>\n",
       "<p>425028 rows × 8 columns</p>\n",
       "</div>"
      ],
      "text/plain": [
       "       image_index  Qtype  question_index        image_filename  \\\n",
       "0                0      1               0  CLEVR_val_000000.png   \n",
       "1                0      1               1  CLEVR_val_000000.png   \n",
       "2                0      1               2  CLEVR_val_000000.png   \n",
       "3                0      2               3  CLEVR_val_000000.png   \n",
       "4                0      2               4  CLEVR_val_000000.png   \n",
       "...            ...    ...             ...                   ...   \n",
       "425023       14999      3          425023  CLEVR_val_014999.png   \n",
       "425024       14999      3          425024  CLEVR_val_014999.png   \n",
       "425025       14999      4          425025  CLEVR_val_014999.png   \n",
       "425026       14999      4          425026  CLEVR_val_014999.png   \n",
       "425027       14999      4          425027  CLEVR_val_014999.png   \n",
       "\n",
       "       question_number split answer  \\\n",
       "0                   Q1   val      7   \n",
       "1                   Q2   val      3   \n",
       "2                   Q3   val      7   \n",
       "3                   Q1   val     -3   \n",
       "4                   Q2   val     -1   \n",
       "...                ...   ...    ...   \n",
       "425023              Q2   val      0   \n",
       "425024              Q3   val      0   \n",
       "425025              Q1   val      0   \n",
       "425026              Q2   val      0   \n",
       "425027              Q3   val      0   \n",
       "\n",
       "                                                 question  \n",
       "0       What is the equivalent to the number of object...  \n",
       "1       What is the equivalent to the number of object...  \n",
       "2       What is the equivalent to the number of object...  \n",
       "3       How many more objects are the same size as the...  \n",
       "4       How many more objects are the same size as the...  \n",
       "...                                                   ...  \n",
       "425023  What is the product of 4 and the number of lar...  \n",
       "425024  What is the product of 6 and the number of lar...  \n",
       "425025  What is half of the number of large cubes have...  \n",
       "425026  What is half of the number of large cubes have...  \n",
       "425027  What is half of the number of large cubes have...  \n",
       "\n",
       "[425028 rows x 8 columns]"
      ]
     },
     "execution_count": 15,
     "metadata": {},
     "output_type": "execute_result"
    }
   ],
   "source": [
    "finValid = pd.DataFrame()\n",
    "finValid[\"image_index\"] = image_index\n",
    "finValid[\"Qtype\"] = Qtype\n",
    "finValid[\"question_index\"] = question_index\n",
    "finValid[\"image_filename\"] = image_filename\n",
    "finValid[\"question_number\"] = question_number\n",
    "finValid[\"split\"] = split\n",
    "finValid[\"answer\"] = answer\n",
    "finValid[\"question\"] = question\n",
    "finValid"
   ]
  },
  {
   "cell_type": "code",
   "execution_count": 18,
   "metadata": {},
   "outputs": [
    {
     "data": {
      "text/plain": [
       "image_index                                                    14981\n",
       "Qtype                                                              1\n",
       "question_index                                                424440\n",
       "image_filename                                  CLEVR_val_014981.png\n",
       "question_number                                                   Q1\n",
       "split                                                            val\n",
       "answer                                                             3\n",
       "question           What is the number of things are big cyan obje...\n",
       "Name: 424440, dtype: object"
      ]
     },
     "execution_count": 18,
     "metadata": {},
     "output_type": "execute_result"
    }
   ],
   "source": [
    "a = finValid[\"image_index\"].tolist()\n",
    "b = a.index(\"14981\")         # 424392\n",
    "a[b]            # 14980\n",
    "finValid.iloc[b]"
   ]
  },
  {
   "cell_type": "code",
   "execution_count": 19,
   "metadata": {},
   "outputs": [
    {
     "name": "stdout",
     "output_type": "stream",
     "text": [
      "['What is the number of things are big cyan objects or small brown rubber cubes plus 2']\n"
     ]
    }
   ],
   "source": [
    "a = finValid.iloc[b][[\"question\"]].tolist()\n",
    "print(a)"
   ]
  },
  {
   "cell_type": "code",
   "execution_count": 18,
   "metadata": {},
   "outputs": [],
   "source": [
    "#finValid.to_json(\"ValidationToBeRenamed.json\", orient='records')"
   ]
  },
  {
   "cell_type": "code",
   "execution_count": 15,
   "metadata": {},
   "outputs": [],
   "source": [
    "##################################################################################################"
   ]
  },
  {
   "cell_type": "code",
   "execution_count": 16,
   "metadata": {},
   "outputs": [],
   "source": [
    "##################################################################################################"
   ]
  },
  {
   "cell_type": "code",
   "execution_count": 17,
   "metadata": {},
   "outputs": [],
   "source": [
    "##################################################################################################"
   ]
  },
  {
   "cell_type": "markdown",
   "metadata": {},
   "source": [
    "## Train to JSON"
   ]
  },
  {
   "cell_type": "code",
   "execution_count": 20,
   "metadata": {
    "scrolled": true
   },
   "outputs": [
    {
     "data": {
      "text/plain": [
       "<bound method NDFrame.head of                   Unnamed: 0   Unnamed: 1 Unnamed: 2  \\\n",
       "0            Q1 - 000000.png     Addition         Q1   \n",
       "1            Q1 - 000000.png     Addition         Q2   \n",
       "2            Q1 - 000000.png     Addition         Q3   \n",
       "3            Q1 - 000000.png  Subtraction         Q1   \n",
       "4            Q1 - 000000.png  Subtraction         Q2   \n",
       "...                      ...          ...        ...   \n",
       "1048570  Q87381 - 036891.png     Division         Q2   \n",
       "1048571  Q87381 - 036891.png     Division         Q3   \n",
       "1048572  Q87382 - 036891.png     Addition         Q1   \n",
       "1048573  Q87382 - 036891.png     Addition         Q2   \n",
       "1048574  Q87382 - 036891.png     Addition         Q3   \n",
       "\n",
       "                                                  Question  Original Answer  \\\n",
       "0        How many things are there of the same shape as...                2   \n",
       "1        How many things are there of the same shape as...                2   \n",
       "2        How many things are there of the same shape as...                2   \n",
       "3        If you remove the number of things are there o...                2   \n",
       "4        If you remove the number of things are there o...                2   \n",
       "...                                                    ...              ...   \n",
       "1048570  If you separate the number of tiny objects hav...                1   \n",
       "1048571  If you separate the number of tiny objects hav...                1   \n",
       "1048572  How many objects are the same size as the blue...                4   \n",
       "1048573  How many objects are the same size as the blue...                4   \n",
       "1048574  How many objects are the same size as the blue...                4   \n",
       "\n",
       "         Question Number Operation Template Number Template New Answer  \n",
       "0                      8            ch + og             8+2         10  \n",
       "1                      6            ch + og             6+2          8  \n",
       "2                      7            ch + og             7+2          9  \n",
       "3                      7            ch - og          02-Jul          5  \n",
       "4                      9            ch - og          02-Sep          7  \n",
       "...                  ...                ...             ...        ...  \n",
       "1048570                5            og / ch          05-Jan        0.2  \n",
       "1048571                6            og / ch          06-Jan        0.2  \n",
       "1048572                3            ch + og             3+4          7  \n",
       "1048573                8            ch + og             8+4         12  \n",
       "1048574                2            ch + og             2+4          6  \n",
       "\n",
       "[1048575 rows x 9 columns]>"
      ]
     },
     "execution_count": 20,
     "metadata": {},
     "output_type": "execute_result"
    }
   ],
   "source": [
    "train = pd.read_csv('FinalQuestionsTrain.csv')\n",
    "train.head"
   ]
  },
  {
   "cell_type": "code",
   "execution_count": null,
   "metadata": {},
   "outputs": [],
   "source": []
  },
  {
   "cell_type": "code",
   "execution_count": 21,
   "metadata": {},
   "outputs": [
    {
     "name": "stdout",
     "output_type": "stream",
     "text": [
      "1048575\n"
     ]
    }
   ],
   "source": [
    "# image_index\n",
    "test = train[[\"Unnamed: 0\"]]\n",
    "g = test.values.tolist()\n",
    "image_index = []\n",
    "for i in g:\n",
    "    temp = i[0]\n",
    "    ind = temp.index(\"-\")\n",
    "    image_index.append(str(int(temp[-11:-4])))\n",
    "print(len(image_index))"
   ]
  },
  {
   "cell_type": "code",
   "execution_count": 22,
   "metadata": {},
   "outputs": [
    {
     "data": {
      "text/plain": [
       "1048575"
      ]
     },
     "execution_count": 22,
     "metadata": {},
     "output_type": "execute_result"
    }
   ],
   "source": [
    "# Qtype\n",
    "test = train[[\"Unnamed: 1\"]]\n",
    "h = test.values.tolist()\n",
    "Qtype = []\n",
    "for i in h:\n",
    "    if i[0] == \"Addition\":\n",
    "        Qtype.append(1)\n",
    "    if i[0] == \"Subtraction\":\n",
    "        Qtype.append(2)\n",
    "    if i[0] == \"Multiplication\":\n",
    "        Qtype.append(3)\n",
    "    if i[0] == \"Division\":\n",
    "        Qtype.append(4)\n",
    "        \n",
    "len(Qtype)"
   ]
  },
  {
   "cell_type": "code",
   "execution_count": 23,
   "metadata": {},
   "outputs": [
    {
     "data": {
      "text/plain": [
       "1048575"
      ]
     },
     "execution_count": 23,
     "metadata": {},
     "output_type": "execute_result"
    }
   ],
   "source": [
    "# question_index\n",
    "question_index = np.arange(0, 1048575).tolist()\n",
    "len(question_index)"
   ]
  },
  {
   "cell_type": "code",
   "execution_count": 24,
   "metadata": {},
   "outputs": [
    {
     "data": {
      "text/plain": [
       "1048575"
      ]
     },
     "execution_count": 24,
     "metadata": {},
     "output_type": "execute_result"
    }
   ],
   "source": [
    "# image_filename\n",
    "test = train[[\"Unnamed: 0\"]]\n",
    "j = test.values.tolist()\n",
    "image_filename = []\n",
    "val_text = \"CLEVR_train_\"\n",
    "for i in j:\n",
    "    temp = i[0]\n",
    "    temp = temp[-11::]\n",
    "    temp = val_text + str(temp).strip()\n",
    "    image_filename.append(temp)\n",
    "len(image_filename)"
   ]
  },
  {
   "cell_type": "code",
   "execution_count": 25,
   "metadata": {},
   "outputs": [
    {
     "data": {
      "text/plain": [
       "1048575"
      ]
     },
     "execution_count": 25,
     "metadata": {},
     "output_type": "execute_result"
    }
   ],
   "source": [
    "# Q 1/2/3\n",
    "test = train[[\"Unnamed: 2\"]]\n",
    "k = test.values.tolist()\n",
    "question_number = []\n",
    "for i in k:\n",
    "    temp = i[0]\n",
    "    question_number.append(temp)\n",
    "len(question_number)"
   ]
  },
  {
   "cell_type": "code",
   "execution_count": 26,
   "metadata": {},
   "outputs": [
    {
     "data": {
      "text/plain": [
       "1048575"
      ]
     },
     "execution_count": 26,
     "metadata": {},
     "output_type": "execute_result"
    }
   ],
   "source": [
    "# split\n",
    "split = []\n",
    "split_text = \"train\"\n",
    "for i in range(1048575):\n",
    "    split.append(split_text)\n",
    "len(split)"
   ]
  },
  {
   "cell_type": "code",
   "execution_count": 27,
   "metadata": {},
   "outputs": [
    {
     "data": {
      "text/plain": [
       "1048575"
      ]
     },
     "execution_count": 27,
     "metadata": {},
     "output_type": "execute_result"
    }
   ],
   "source": [
    "# answer\n",
    "test = train[[\"New Answer\"]]\n",
    "l = test.values.tolist()\n",
    "answer = []\n",
    "for i in l:\n",
    "    temp = i[0]\n",
    "    answer.append(temp)\n",
    "len(answer)"
   ]
  },
  {
   "cell_type": "code",
   "execution_count": 28,
   "metadata": {},
   "outputs": [
    {
     "data": {
      "text/plain": [
       "1048575"
      ]
     },
     "execution_count": 28,
     "metadata": {},
     "output_type": "execute_result"
    }
   ],
   "source": [
    "# question\n",
    "test = train[[\"Question\"]]\n",
    "m = test.values.tolist()\n",
    "question = []\n",
    "for i in m:\n",
    "    temp = i[0]\n",
    "    question.append(temp)\n",
    "len(question)"
   ]
  },
  {
   "cell_type": "code",
   "execution_count": 29,
   "metadata": {},
   "outputs": [
    {
     "data": {
      "text/plain": [
       "'How many objects are the same size as the blue ball added to 2'"
      ]
     },
     "execution_count": 29,
     "metadata": {},
     "output_type": "execute_result"
    }
   ],
   "source": [
    "question[-1]"
   ]
  },
  {
   "cell_type": "code",
   "execution_count": 30,
   "metadata": {},
   "outputs": [
    {
     "data": {
      "text/html": [
       "<div>\n",
       "<style scoped>\n",
       "    .dataframe tbody tr th:only-of-type {\n",
       "        vertical-align: middle;\n",
       "    }\n",
       "\n",
       "    .dataframe tbody tr th {\n",
       "        vertical-align: top;\n",
       "    }\n",
       "\n",
       "    .dataframe thead th {\n",
       "        text-align: right;\n",
       "    }\n",
       "</style>\n",
       "<table border=\"1\" class=\"dataframe\">\n",
       "  <thead>\n",
       "    <tr style=\"text-align: right;\">\n",
       "      <th></th>\n",
       "      <th>image_index</th>\n",
       "      <th>Qtype</th>\n",
       "      <th>question_index</th>\n",
       "      <th>image_filename</th>\n",
       "      <th>question_number</th>\n",
       "      <th>split</th>\n",
       "      <th>answer</th>\n",
       "      <th>question</th>\n",
       "    </tr>\n",
       "  </thead>\n",
       "  <tbody>\n",
       "    <tr>\n",
       "      <th>0</th>\n",
       "      <td>0</td>\n",
       "      <td>1</td>\n",
       "      <td>0</td>\n",
       "      <td>CLEVR_train_000000.png</td>\n",
       "      <td>Q1</td>\n",
       "      <td>train</td>\n",
       "      <td>10</td>\n",
       "      <td>How many things are there of the same shape as...</td>\n",
       "    </tr>\n",
       "    <tr>\n",
       "      <th>1</th>\n",
       "      <td>0</td>\n",
       "      <td>1</td>\n",
       "      <td>1</td>\n",
       "      <td>CLEVR_train_000000.png</td>\n",
       "      <td>Q2</td>\n",
       "      <td>train</td>\n",
       "      <td>8</td>\n",
       "      <td>How many things are there of the same shape as...</td>\n",
       "    </tr>\n",
       "    <tr>\n",
       "      <th>2</th>\n",
       "      <td>0</td>\n",
       "      <td>1</td>\n",
       "      <td>2</td>\n",
       "      <td>CLEVR_train_000000.png</td>\n",
       "      <td>Q3</td>\n",
       "      <td>train</td>\n",
       "      <td>9</td>\n",
       "      <td>How many things are there of the same shape as...</td>\n",
       "    </tr>\n",
       "    <tr>\n",
       "      <th>3</th>\n",
       "      <td>0</td>\n",
       "      <td>2</td>\n",
       "      <td>3</td>\n",
       "      <td>CLEVR_train_000000.png</td>\n",
       "      <td>Q1</td>\n",
       "      <td>train</td>\n",
       "      <td>5</td>\n",
       "      <td>If you remove the number of things are there o...</td>\n",
       "    </tr>\n",
       "    <tr>\n",
       "      <th>4</th>\n",
       "      <td>0</td>\n",
       "      <td>2</td>\n",
       "      <td>4</td>\n",
       "      <td>CLEVR_train_000000.png</td>\n",
       "      <td>Q2</td>\n",
       "      <td>train</td>\n",
       "      <td>7</td>\n",
       "      <td>If you remove the number of things are there o...</td>\n",
       "    </tr>\n",
       "    <tr>\n",
       "      <th>...</th>\n",
       "      <td>...</td>\n",
       "      <td>...</td>\n",
       "      <td>...</td>\n",
       "      <td>...</td>\n",
       "      <td>...</td>\n",
       "      <td>...</td>\n",
       "      <td>...</td>\n",
       "      <td>...</td>\n",
       "    </tr>\n",
       "    <tr>\n",
       "      <th>1048570</th>\n",
       "      <td>36891</td>\n",
       "      <td>4</td>\n",
       "      <td>1048570</td>\n",
       "      <td>CLEVR_train_036891.png</td>\n",
       "      <td>Q2</td>\n",
       "      <td>train</td>\n",
       "      <td>0.2</td>\n",
       "      <td>If you separate the number of tiny objects hav...</td>\n",
       "    </tr>\n",
       "    <tr>\n",
       "      <th>1048571</th>\n",
       "      <td>36891</td>\n",
       "      <td>4</td>\n",
       "      <td>1048571</td>\n",
       "      <td>CLEVR_train_036891.png</td>\n",
       "      <td>Q3</td>\n",
       "      <td>train</td>\n",
       "      <td>0.2</td>\n",
       "      <td>If you separate the number of tiny objects hav...</td>\n",
       "    </tr>\n",
       "    <tr>\n",
       "      <th>1048572</th>\n",
       "      <td>36891</td>\n",
       "      <td>1</td>\n",
       "      <td>1048572</td>\n",
       "      <td>CLEVR_train_036891.png</td>\n",
       "      <td>Q1</td>\n",
       "      <td>train</td>\n",
       "      <td>7</td>\n",
       "      <td>How many objects are the same size as the blue...</td>\n",
       "    </tr>\n",
       "    <tr>\n",
       "      <th>1048573</th>\n",
       "      <td>36891</td>\n",
       "      <td>1</td>\n",
       "      <td>1048573</td>\n",
       "      <td>CLEVR_train_036891.png</td>\n",
       "      <td>Q2</td>\n",
       "      <td>train</td>\n",
       "      <td>12</td>\n",
       "      <td>How many objects are the same size as the blue...</td>\n",
       "    </tr>\n",
       "    <tr>\n",
       "      <th>1048574</th>\n",
       "      <td>36891</td>\n",
       "      <td>1</td>\n",
       "      <td>1048574</td>\n",
       "      <td>CLEVR_train_036891.png</td>\n",
       "      <td>Q3</td>\n",
       "      <td>train</td>\n",
       "      <td>6</td>\n",
       "      <td>How many objects are the same size as the blue...</td>\n",
       "    </tr>\n",
       "  </tbody>\n",
       "</table>\n",
       "<p>1048575 rows × 8 columns</p>\n",
       "</div>"
      ],
      "text/plain": [
       "        image_index  Qtype  question_index          image_filename  \\\n",
       "0                 0      1               0  CLEVR_train_000000.png   \n",
       "1                 0      1               1  CLEVR_train_000000.png   \n",
       "2                 0      1               2  CLEVR_train_000000.png   \n",
       "3                 0      2               3  CLEVR_train_000000.png   \n",
       "4                 0      2               4  CLEVR_train_000000.png   \n",
       "...             ...    ...             ...                     ...   \n",
       "1048570       36891      4         1048570  CLEVR_train_036891.png   \n",
       "1048571       36891      4         1048571  CLEVR_train_036891.png   \n",
       "1048572       36891      1         1048572  CLEVR_train_036891.png   \n",
       "1048573       36891      1         1048573  CLEVR_train_036891.png   \n",
       "1048574       36891      1         1048574  CLEVR_train_036891.png   \n",
       "\n",
       "        question_number  split answer  \\\n",
       "0                    Q1  train     10   \n",
       "1                    Q2  train      8   \n",
       "2                    Q3  train      9   \n",
       "3                    Q1  train      5   \n",
       "4                    Q2  train      7   \n",
       "...                 ...    ...    ...   \n",
       "1048570              Q2  train    0.2   \n",
       "1048571              Q3  train    0.2   \n",
       "1048572              Q1  train      7   \n",
       "1048573              Q2  train     12   \n",
       "1048574              Q3  train      6   \n",
       "\n",
       "                                                  question  \n",
       "0        How many things are there of the same shape as...  \n",
       "1        How many things are there of the same shape as...  \n",
       "2        How many things are there of the same shape as...  \n",
       "3        If you remove the number of things are there o...  \n",
       "4        If you remove the number of things are there o...  \n",
       "...                                                    ...  \n",
       "1048570  If you separate the number of tiny objects hav...  \n",
       "1048571  If you separate the number of tiny objects hav...  \n",
       "1048572  How many objects are the same size as the blue...  \n",
       "1048573  How many objects are the same size as the blue...  \n",
       "1048574  How many objects are the same size as the blue...  \n",
       "\n",
       "[1048575 rows x 8 columns]"
      ]
     },
     "execution_count": 30,
     "metadata": {},
     "output_type": "execute_result"
    }
   ],
   "source": [
    "finTrain = pd.DataFrame()\n",
    "finTrain[\"image_index\"] = image_index\n",
    "finTrain[\"Qtype\"] = Qtype\n",
    "finTrain[\"question_index\"] = question_index\n",
    "finTrain[\"image_filename\"] = image_filename\n",
    "finTrain[\"question_number\"] = question_number\n",
    "finTrain[\"split\"] = split\n",
    "finTrain[\"answer\"] = answer\n",
    "finTrain[\"question\"] = question\n",
    "finTrain"
   ]
  },
  {
   "cell_type": "code",
   "execution_count": 35,
   "metadata": {},
   "outputs": [],
   "source": [
    "finTrain.to_json(\"TrainToBeRenamed.json\", orient='records')"
   ]
  },
  {
   "cell_type": "code",
   "execution_count": 52,
   "metadata": {},
   "outputs": [],
   "source": [
    "##################################################################################################"
   ]
  },
  {
   "cell_type": "code",
   "execution_count": 53,
   "metadata": {},
   "outputs": [],
   "source": [
    "##################################################################################################"
   ]
  },
  {
   "cell_type": "code",
   "execution_count": 54,
   "metadata": {},
   "outputs": [],
   "source": [
    "##################################################################################################"
   ]
  }
 ],
 "metadata": {
  "kernelspec": {
   "display_name": "Python 3",
   "language": "python",
   "name": "python3"
  },
  "language_info": {
   "codemirror_mode": {
    "name": "ipython",
    "version": 3
   },
   "file_extension": ".py",
   "mimetype": "text/x-python",
   "name": "python",
   "nbconvert_exporter": "python",
   "pygments_lexer": "ipython3",
   "version": "3.8.3"
  }
 },
 "nbformat": 4,
 "nbformat_minor": 4
}
